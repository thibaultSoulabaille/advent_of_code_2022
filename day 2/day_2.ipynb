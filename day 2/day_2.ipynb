{
 "cells": [
  {
   "cell_type": "code",
   "execution_count": 12,
   "metadata": {},
   "outputs": [
    {
     "name": "stdout",
     "output_type": "stream",
     "text": [
      "11386\n"
     ]
    }
   ],
   "source": [
    "input_file = open(\"input.txt\")\n",
    "\n",
    "actions = [[1, 0, 2], [2, 1, 0], [0, 2, 1]]\n",
    "\n",
    "games = [line.strip().split(' ') for line in input_file]\n",
    "games_index = [[ord(game[0]) - 65, ord(game[1]) - 88] for game in games]\n",
    "scores = [game[1] + 1 + 3*(actions[game[1]].index(game[0])) for game in games_index]\n",
    "\n",
    "print(sum(scores))"
   ]
  },
  {
   "cell_type": "code",
   "execution_count": 13,
   "metadata": {
    "collapsed": false
   },
   "outputs": [
    {
     "name": "stdout",
     "output_type": "stream",
     "text": [
      "13600\n"
     ]
    }
   ],
   "source": [
    "input_file = open(\"input.txt\")\n",
    "\n",
    "actions = [[2, 0, 1], [0, 1, 2], [1, 2, 0]]\n",
    "\n",
    "games = [line.strip().split(' ') for line in input_file]\n",
    "games_index = [[ord(game[0]) - 65, ord(game[1]) - 88] for game in games]\n",
    "scores = [3*game[1] + (actions[game[0]][game[1]] + 1) for game in games_index]\n",
    "\n",
    "print(sum(scores))"
   ]
  }
 ],
 "metadata": {
  "kernelspec": {
   "display_name": "Python 3.9.13 ('mam5')",
   "language": "python",
   "name": "python3"
  },
  "language_info": {
   "codemirror_mode": {
    "name": "ipython",
    "version": 3
   },
   "file_extension": ".py",
   "mimetype": "text/x-python",
   "name": "python",
   "nbconvert_exporter": "python",
   "pygments_lexer": "ipython3",
   "version": "3.9.13 (main, Aug 25 2022, 23:51:50) [MSC v.1916 64 bit (AMD64)]"
  },
  "orig_nbformat": 4,
  "vscode": {
   "interpreter": {
    "hash": "441f53148646d0c665a00e63142f79eebef52a65ac4499e639bc9d182b854abe"
   }
  }
 },
 "nbformat": 4,
 "nbformat_minor": 2
}
