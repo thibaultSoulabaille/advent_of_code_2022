{
 "cells": [
  {
   "cell_type": "code",
   "execution_count": 1,
   "metadata": {},
   "outputs": [
    {
     "name": "stdout",
     "output_type": "stream",
     "text": [
      "74711\n"
     ]
    }
   ],
   "source": [
    "input_file = open(\"input.txt\").read()\n",
    "\n",
    "calories = input_file.split('\\n\\n')\n",
    "\n",
    "calories_sum = [sum(list(map(int, filter(None, c.split('\\n'))))) for c in calories]\n",
    "\n",
    "print(max(calories_sum))"
   ]
  },
  {
   "cell_type": "code",
   "execution_count": 2,
   "metadata": {},
   "outputs": [
    {
     "name": "stdout",
     "output_type": "stream",
     "text": [
      "209481\n"
     ]
    }
   ],
   "source": [
    "calories_sum_sorted = sorted(calories_sum)\n",
    "\n",
    "print(sum(calories_sum_sorted[-3:]))"
   ]
  }
 ],
 "metadata": {
  "kernelspec": {
   "display_name": "Python 3.9.13 ('mam5')",
   "language": "python",
   "name": "python3"
  },
  "language_info": {
   "codemirror_mode": {
    "name": "ipython",
    "version": 3
   },
   "file_extension": ".py",
   "mimetype": "text/x-python",
   "name": "python",
   "nbconvert_exporter": "python",
   "pygments_lexer": "ipython3",
   "version": "3.9.13"
  },
  "orig_nbformat": 4,
  "vscode": {
   "interpreter": {
    "hash": "441f53148646d0c665a00e63142f79eebef52a65ac4499e639bc9d182b854abe"
   }
  }
 },
 "nbformat": 4,
 "nbformat_minor": 2
}
