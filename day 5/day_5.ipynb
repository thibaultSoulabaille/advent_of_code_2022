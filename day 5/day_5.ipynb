{
 "cells": [
  {
   "cell_type": "code",
   "execution_count": 61,
   "metadata": {},
   "outputs": [
    {
     "name": "stdout",
     "output_type": "stream",
     "text": [
      "SHMSDGZVC\n"
     ]
    }
   ],
   "source": [
    "stacks_descriptions, moves = open(\"input.txt\").read().split('\\n\\n')\n",
    "\n",
    "stacks_descriptions = stacks_descriptions.split('\\n')\n",
    "n_stacks = int(stacks_descriptions[-1].strip()[-1])\n",
    "stacks = []\n",
    "\n",
    "for i in range(1, n_stacks*4, 4):\n",
    "    stack = [line[i] for line in stacks_descriptions[:-1] if line[i] != ' ']\n",
    "    stack.reverse()\n",
    "    stacks.append(stack)\n",
    "\n",
    "moves = [move.split(' ') for move in moves.strip().split('\\n')]\n",
    "for move in moves:\n",
    "    elements = [stacks[int(move[3]) - 1].pop() for i in range(int(move[1]))]\n",
    "    stacks[int(move[5]) - 1].extend(elements)\n",
    "\n",
    "print(''.join([stack.pop() for stack in stacks]))"
   ]
  },
  {
   "cell_type": "code",
   "execution_count": 71,
   "metadata": {},
   "outputs": [
    {
     "name": "stdout",
     "output_type": "stream",
     "text": [
      "VRZGHDFBQ\n"
     ]
    }
   ],
   "source": [
    "stacks_descriptions, moves = open(\"input.txt\").read().split('\\n\\n')\n",
    "\n",
    "stacks_descriptions = stacks_descriptions.split('\\n')\n",
    "n_stacks = int(stacks_descriptions[-1].strip()[-1])\n",
    "stacks = []\n",
    "\n",
    "for i in range(1, n_stacks*4, 4):\n",
    "    stack = [line[i] for line in stacks_descriptions[:-1] if line[i] != ' ']\n",
    "    stack.reverse()\n",
    "    stacks.append(stack)\n",
    "\n",
    "moves = [move.split(' ') for move in moves.strip().split('\\n')]\n",
    "for move in moves:\n",
    "    elements = [stacks[int(move[3]) - 1].pop() for i in range(int(move[1]))]\n",
    "    elements.reverse()\n",
    "    stacks[int(move[5]) - 1].extend(elements)\n",
    "\n",
    "print(''.join([stack.pop() for stack in stacks]))"
   ]
  }
 ],
 "metadata": {
  "kernelspec": {
   "display_name": "Python 3.9.13 ('mam5')",
   "language": "python",
   "name": "python3"
  },
  "language_info": {
   "codemirror_mode": {
    "name": "ipython",
    "version": 3
   },
   "file_extension": ".py",
   "mimetype": "text/x-python",
   "name": "python",
   "nbconvert_exporter": "python",
   "pygments_lexer": "ipython3",
   "version": "3.9.13"
  },
  "orig_nbformat": 4,
  "vscode": {
   "interpreter": {
    "hash": "441f53148646d0c665a00e63142f79eebef52a65ac4499e639bc9d182b854abe"
   }
  }
 },
 "nbformat": 4,
 "nbformat_minor": 2
}
