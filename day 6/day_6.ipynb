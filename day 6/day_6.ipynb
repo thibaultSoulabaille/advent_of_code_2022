{
 "cells": [
  {
   "cell_type": "code",
   "execution_count": 16,
   "metadata": {},
   "outputs": [
    {
     "name": "stdout",
     "output_type": "stream",
     "text": [
      "1282\n"
     ]
    }
   ],
   "source": [
    "input_stream = open(\"input.txt\").read().strip()\n",
    "\n",
    "for i in range(len(input_stream)):\n",
    "    four_characters = set(input_stream[i:i+4])\n",
    "    if len(four_characters) == 4:\n",
    "        marker = i + 4\n",
    "        break\n",
    "\n",
    "print(marker)"
   ]
  },
  {
   "cell_type": "code",
   "execution_count": 18,
   "metadata": {},
   "outputs": [
    {
     "name": "stdout",
     "output_type": "stream",
     "text": [
      "19\n"
     ]
    }
   ],
   "source": [
    "input_stream = open(\"input_test.txt\").read().strip()\n",
    "\n",
    "for i in range(len(input_stream)):\n",
    "    four_characters = set(input_stream[i:i+14])\n",
    "    if len(four_characters) == 14:\n",
    "        marker = i + 14\n",
    "        break\n",
    "\n",
    "print(marker)"
   ]
  }
 ],
 "metadata": {
  "kernelspec": {
   "display_name": "Python 3.9.13 ('mam5')",
   "language": "python",
   "name": "python3"
  },
  "language_info": {
   "codemirror_mode": {
    "name": "ipython",
    "version": 3
   },
   "file_extension": ".py",
   "mimetype": "text/x-python",
   "name": "python",
   "nbconvert_exporter": "python",
   "pygments_lexer": "ipython3",
   "version": "3.9.13"
  },
  "orig_nbformat": 4,
  "vscode": {
   "interpreter": {
    "hash": "441f53148646d0c665a00e63142f79eebef52a65ac4499e639bc9d182b854abe"
   }
  }
 },
 "nbformat": 4,
 "nbformat_minor": 2
}
