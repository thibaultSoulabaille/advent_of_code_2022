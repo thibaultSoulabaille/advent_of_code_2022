{
 "cells": [
  {
   "cell_type": "code",
   "execution_count": 36,
   "metadata": {},
   "outputs": [],
   "source": [
    "import copy as cp"
   ]
  },
  {
   "cell_type": "code",
   "execution_count": 37,
   "metadata": {},
   "outputs": [
    {
     "name": "stdout",
     "output_type": "stream",
     "text": [
      "14040\n"
     ]
    }
   ],
   "source": [
    "input_file = [line.split(' ') for line in open(\"input.txt\").read().splitlines()]\n",
    "\n",
    "cycles = [20, 60, 100, 140, 180, 220]\n",
    "\n",
    "X = [1]\n",
    "current = 1\n",
    "\n",
    "for line in input_file:\n",
    "    if line[0] == 'addx':\n",
    "        X.append(current)\n",
    "        current += int(line[1])\n",
    "    X.append(current)\n",
    "\n",
    "result = sum([c*X[c-1] for c in cycles])\n",
    "print(result)"
   ]
  },
  {
   "cell_type": "code",
   "execution_count": 40,
   "metadata": {},
   "outputs": [
    {
     "name": "stdout",
     "output_type": "stream",
     "text": [
      "####..##...##....##.####...##.####.#....\n",
      "...#.#..#.#..#....#....#....#.#....#....\n",
      "..#..#....#.......#...#.....#.###..#....\n",
      ".#...#.##.#.......#..#......#.#....#....\n",
      "#....#..#.#..#.#..#.#....#..#.#....#....\n",
      "####..###..##...##..####..##..#....####.\n",
      "\n"
     ]
    }
   ],
   "source": [
    "pixel = []\n",
    "\n",
    "for i, val in enumerate(X):\n",
    "    i_line = i%40\n",
    "    if abs(i_line - val) < 2:\n",
    "        pixel.append('#')\n",
    "    else:\n",
    "        pixel.append('.')\n",
    "    \n",
    "    if (i+1)%40 == 0:\n",
    "        pixel.append('\\n')\n",
    "\n",
    "print(''.join(pixel[:-1]))"
   ]
  }
 ],
 "metadata": {
  "kernelspec": {
   "display_name": "mam5",
   "language": "python",
   "name": "python3"
  },
  "language_info": {
   "codemirror_mode": {
    "name": "ipython",
    "version": 3
   },
   "file_extension": ".py",
   "mimetype": "text/x-python",
   "name": "python",
   "nbconvert_exporter": "python",
   "pygments_lexer": "ipython3",
   "version": "3.9.13"
  },
  "orig_nbformat": 4,
  "vscode": {
   "interpreter": {
    "hash": "441f53148646d0c665a00e63142f79eebef52a65ac4499e639bc9d182b854abe"
   }
  }
 },
 "nbformat": 4,
 "nbformat_minor": 2
}
