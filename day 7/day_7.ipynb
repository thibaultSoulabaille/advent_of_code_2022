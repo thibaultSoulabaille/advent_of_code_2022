{
 "cells": [
  {
   "cell_type": "code",
   "execution_count": 11,
   "metadata": {},
   "outputs": [
    {
     "name": "stdout",
     "output_type": "stream",
     "text": [
      "1348005\n"
     ]
    }
   ],
   "source": [
    "input_file = [line.split(' ') for line in open(\"input.txt\").read().strip().split('\\n')]\n",
    "\n",
    "max_size = 100000\n",
    "folder_stack = []\n",
    "sizes = {}\n",
    "\n",
    "for line in input_file:\n",
    "    if line[0] == '$' and line[1] == 'cd':\n",
    "        if line[2] == '..':\n",
    "            folder_stack.pop()\n",
    "        else:\n",
    "            folder_stack.append(line[2])\n",
    "    elif line[0].isnumeric():\n",
    "        for i, folder in enumerate(folder_stack):\n",
    "            folder_full_name = '/'.join(folder_stack[:i+1])\n",
    "            if folder_full_name not in sizes:\n",
    "                sizes[folder_full_name] = int(line[0])\n",
    "            else :\n",
    "                sizes[folder_full_name] += int(line[0])\n",
    "\n",
    "print(sum([sizes[folder] for folder in sizes if sizes[folder]<=max_size]))"
   ]
  },
  {
   "cell_type": "code",
   "execution_count": 12,
   "metadata": {},
   "outputs": [
    {
     "name": "stdout",
     "output_type": "stream",
     "text": [
      "12785886\n"
     ]
    }
   ],
   "source": [
    "total_size = 70000000\n",
    "free_space_needed = 30000000\n",
    "\n",
    "free_space = total_size - sizes['/']\n",
    "space_needed = free_space_needed - free_space\n",
    "\n",
    "print(min([sizes[folder] for folder in sizes if sizes[folder]>=space_needed]))"
   ]
  },
  {
   "cell_type": "code",
   "execution_count": null,
   "metadata": {},
   "outputs": [],
   "source": []
  }
 ],
 "metadata": {
  "kernelspec": {
   "display_name": "Python 3.9.13 ('mam5')",
   "language": "python",
   "name": "python3"
  },
  "language_info": {
   "codemirror_mode": {
    "name": "ipython",
    "version": 3
   },
   "file_extension": ".py",
   "mimetype": "text/x-python",
   "name": "python",
   "nbconvert_exporter": "python",
   "pygments_lexer": "ipython3",
   "version": "3.9.13"
  },
  "orig_nbformat": 4,
  "vscode": {
   "interpreter": {
    "hash": "441f53148646d0c665a00e63142f79eebef52a65ac4499e639bc9d182b854abe"
   }
  }
 },
 "nbformat": 4,
 "nbformat_minor": 2
}
