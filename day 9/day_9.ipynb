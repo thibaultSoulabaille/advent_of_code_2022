{
 "cells": [
  {
   "cell_type": "code",
   "execution_count": 31,
   "metadata": {},
   "outputs": [],
   "source": [
    "import numpy as np"
   ]
  },
  {
   "cell_type": "code",
   "execution_count": 66,
   "metadata": {},
   "outputs": [
    {
     "name": "stdout",
     "output_type": "stream",
     "text": [
      "5907\n"
     ]
    }
   ],
   "source": [
    "input_file = [line.split(' ') for line in open(\"input.txt\").read().splitlines()]\n",
    "\n",
    "visited_positions = set()\n",
    "h = (0, 0)\n",
    "t = (0, 0)\n",
    "\n",
    "visited_positions.add(t)\n",
    "\n",
    "var = {\n",
    "    'U': (1, 0),\n",
    "    'R': (0, 1),\n",
    "    'D': (-1, 0),\n",
    "    'L': (0, -1)\n",
    "}\n",
    "\n",
    "for line in input_file:\n",
    "    change = var[line[0]]\n",
    "    n_step = int(line[1])\n",
    "\n",
    "    for i in range(n_step):\n",
    "        new_h = (h[0] + change[0], h[1] + change[1])\n",
    "        if abs(new_h[0] - t[0]) > 1 or abs(new_h[1] - t[1]) > 1:\n",
    "            t = h\n",
    "            visited_positions.add(t)\n",
    "\n",
    "        h = new_h\n",
    "    \n",
    "print(len(visited_positions))"
   ]
  },
  {
   "cell_type": "code",
   "execution_count": 81,
   "metadata": {},
   "outputs": [
    {
     "name": "stdout",
     "output_type": "stream",
     "text": [
      "2303\n"
     ]
    }
   ],
   "source": [
    "input_file = [line.split(' ') for line in open(\"input.txt\").read().splitlines()]\n",
    "\n",
    "visited_positions = set()\n",
    "t = [(0, 0)]*10\n",
    "\n",
    "visited_positions.add(t[9])\n",
    "\n",
    "for line in input_file:\n",
    "    change = var[line[0]]\n",
    "    n_step = int(line[1])\n",
    "\n",
    "    for i in range(n_step):\n",
    "        t[0] = (t[0][0] + change[0], t[0][1] + change[1])\n",
    "        for i in range(1, 10):\n",
    "            dif = (t[i-1][0] - t[i][0], t[i-1][1] - t[i][1])\n",
    "            if (abs(dif[0]) > 1 or abs(dif[1]) > 1):\n",
    "                move = tuple([-1 if d < 0 else 1 if d > 0 else 0 for d in dif])\n",
    "                t[i] = (t[i][0] + move[0], t[i][1] + move[1])\n",
    "        visited_positions.add(t[9])\n",
    "\n",
    "print(len(visited_positions))"
   ]
  },
  {
   "cell_type": "code",
   "execution_count": null,
   "metadata": {},
   "outputs": [],
   "source": []
  }
 ],
 "metadata": {
  "kernelspec": {
   "display_name": "mam5",
   "language": "python",
   "name": "python3"
  },
  "language_info": {
   "codemirror_mode": {
    "name": "ipython",
    "version": 3
   },
   "file_extension": ".py",
   "mimetype": "text/x-python",
   "name": "python",
   "nbconvert_exporter": "python",
   "pygments_lexer": "ipython3",
   "version": "3.9.13"
  },
  "orig_nbformat": 4,
  "vscode": {
   "interpreter": {
    "hash": "441f53148646d0c665a00e63142f79eebef52a65ac4499e639bc9d182b854abe"
   }
  }
 },
 "nbformat": 4,
 "nbformat_minor": 2
}
