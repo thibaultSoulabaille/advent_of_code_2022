{
 "cells": [
  {
   "cell_type": "code",
   "execution_count": 2,
   "metadata": {},
   "outputs": [],
   "source": [
    "import numpy as np"
   ]
  },
  {
   "cell_type": "code",
   "execution_count": 75,
   "metadata": {},
   "outputs": [
    {
     "name": "stdout",
     "output_type": "stream",
     "text": [
      "1820\n"
     ]
    }
   ],
   "source": [
    "trees = np.array([list(map(int, list(line))) for line in open(\"input.txt\").read().splitlines()])\n",
    "\n",
    "height, width = trees.shape\n",
    "\n",
    "visible_trees = np.zeros((height, width))\n",
    "\n",
    "for i in range(1, height-1):\n",
    "    for j in range(1, width-1):\n",
    "        value = trees[i, j]\n",
    "\n",
    "        up = bool(np.sum(trees[:i, j] >= value))\n",
    "        down = bool(np.sum(trees[i+1:, j] >= value))\n",
    "        left = bool(np.sum(trees[i, :j] >= value))\n",
    "        right = bool(np.sum(trees[i, j+1:] >= value))\n",
    "\n",
    "        visible_trees[i, j] = not (up and down and left and right)\n",
    "\n",
    "print(int(np.sum(visible_trees) + 2*(height + width - 2)))"
   ]
  },
  {
   "cell_type": "code",
   "execution_count": 76,
   "metadata": {},
   "outputs": [
    {
     "name": "stdout",
     "output_type": "stream",
     "text": [
      "385112\n"
     ]
    }
   ],
   "source": [
    "viewing_distance = np.zeros((height, width))\n",
    "\n",
    "def view_dist(line, value):\n",
    "    if len(line) == 0:\n",
    "        return 0\n",
    "\n",
    "    for k, element in enumerate(line):\n",
    "        if (element >= value):\n",
    "            break\n",
    "    return k+1\n",
    "\n",
    "for i in range(height):\n",
    "    for j in range(width):\n",
    "        value = trees[i, j]\n",
    "\n",
    "        up = view_dist(np.flip(np.array(trees[:i, j])), value)\n",
    "        down = view_dist(trees[i+1:, j] if i<height-1 else [], value)\n",
    "        left = view_dist(np.flip(np.array(trees[i, :j])), value)\n",
    "        right = view_dist(trees[i, j+1:] if j<width-1 else [], value)\n",
    "\n",
    "        viewing_distance[i, j] = up * down * left * right \n",
    "\n",
    "print(int(np.max(viewing_distance)))\n"
   ]
  }
 ],
 "metadata": {
  "kernelspec": {
   "display_name": "mam5",
   "language": "python",
   "name": "python3"
  },
  "language_info": {
   "codemirror_mode": {
    "name": "ipython",
    "version": 3
   },
   "file_extension": ".py",
   "mimetype": "text/x-python",
   "name": "python",
   "nbconvert_exporter": "python",
   "pygments_lexer": "ipython3",
   "version": "3.9.13"
  },
  "orig_nbformat": 4,
  "vscode": {
   "interpreter": {
    "hash": "441f53148646d0c665a00e63142f79eebef52a65ac4499e639bc9d182b854abe"
   }
  }
 },
 "nbformat": 4,
 "nbformat_minor": 2
}
