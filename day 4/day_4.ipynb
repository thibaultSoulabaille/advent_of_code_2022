{
 "cells": [
  {
   "cell_type": "code",
   "execution_count": 32,
   "metadata": {},
   "outputs": [
    {
     "name": "stdout",
     "output_type": "stream",
     "text": [
      "450\n"
     ]
    }
   ],
   "source": [
    "input_file = open(\"input.txt\").read().splitlines()\n",
    "\n",
    "overlap = 0\n",
    "\n",
    "for line in input_file:\n",
    "    sections = line.split(',')\n",
    "    sections = [list(map(int, section.split('-'))) for section in sections]\n",
    "    sections_set = [set(range(section[0], section[1]+1)) for section in sections]\n",
    "    overlap += set.intersection(sections_set[0], sections_set[1]) == sections_set[0] or set.intersection(sections_set[0], sections_set[1]) == sections_set[1]\n",
    "\n",
    "print(overlap)"
   ]
  },
  {
   "cell_type": "code",
   "execution_count": 7,
   "metadata": {},
   "outputs": [
    {
     "name": "stdout",
     "output_type": "stream",
     "text": [
      "837\n"
     ]
    }
   ],
   "source": [
    "input_file = open(\"input.txt\").read().splitlines()\n",
    "\n",
    "overlap = 0\n",
    "\n",
    "for line in input_file:\n",
    "    sections = line.split(',')\n",
    "    sections = [list(map(int, section.split('-'))) for section in sections]\n",
    "    sections_set = [set(range(section[0], section[1]+1)) for section in sections]\n",
    "    overlap += 1 if len(set.intersection(sections_set[0], sections_set[1])) > 0 else 0\n",
    "\n",
    "print(overlap)"
   ]
  }
 ],
 "metadata": {
  "kernelspec": {
   "display_name": "Python 3.9.13 ('mam5')",
   "language": "python",
   "name": "python3"
  },
  "language_info": {
   "codemirror_mode": {
    "name": "ipython",
    "version": 3
   },
   "file_extension": ".py",
   "mimetype": "text/x-python",
   "name": "python",
   "nbconvert_exporter": "python",
   "pygments_lexer": "ipython3",
   "version": "3.9.13"
  },
  "orig_nbformat": 4,
  "vscode": {
   "interpreter": {
    "hash": "441f53148646d0c665a00e63142f79eebef52a65ac4499e639bc9d182b854abe"
   }
  }
 },
 "nbformat": 4,
 "nbformat_minor": 2
}
