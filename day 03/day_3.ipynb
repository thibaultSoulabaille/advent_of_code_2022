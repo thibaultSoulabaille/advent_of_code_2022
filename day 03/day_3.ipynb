{
 "cells": [
  {
   "cell_type": "code",
   "execution_count": 9,
   "metadata": {},
   "outputs": [],
   "source": [
    "import textwrap\n",
    "import numpy as np"
   ]
  },
  {
   "cell_type": "code",
   "execution_count": 49,
   "metadata": {},
   "outputs": [
    {
     "name": "stdout",
     "output_type": "stream",
     "text": [
      "7795\n"
     ]
    }
   ],
   "source": [
    "input_file = open(\"input.txt\")\n",
    "\n",
    "input_splitted = [textwrap.wrap(line, len(line)//2) for line in input_file]\n",
    "common_el = [set(line[0]).intersection(line[1]).pop() for line in input_splitted]\n",
    "priorities = map(lambda x: (ord(x) - 38) if x.isupper() else (ord(x) - 96), common_el)\n",
    "\n",
    "print(sum(priorities))"
   ]
  },
  {
   "cell_type": "code",
   "execution_count": 50,
   "metadata": {},
   "outputs": [
    {
     "name": "stdout",
     "output_type": "stream",
     "text": [
      "2703\n"
     ]
    }
   ],
   "source": [
    "input_file = open(\"input.txt\").read().splitlines()\n",
    "\n",
    "res = 0\n",
    "\n",
    "for i in range(0, len(input_file), 3):\n",
    "    badge = set.intersection(set(input_file[i]), set(input_file[i+1]), set(input_file[i+2])).pop()\n",
    "    res += (ord(badge) - 38) if badge.isupper() else (ord(badge) - 96)\n",
    "\n",
    "print(res)"
   ]
  }
 ],
 "metadata": {
  "kernelspec": {
   "display_name": "Python 3.9.13 ('mam5')",
   "language": "python",
   "name": "python3"
  },
  "language_info": {
   "codemirror_mode": {
    "name": "ipython",
    "version": 3
   },
   "file_extension": ".py",
   "mimetype": "text/x-python",
   "name": "python",
   "nbconvert_exporter": "python",
   "pygments_lexer": "ipython3",
   "version": "3.9.13"
  },
  "orig_nbformat": 4,
  "vscode": {
   "interpreter": {
    "hash": "441f53148646d0c665a00e63142f79eebef52a65ac4499e639bc9d182b854abe"
   }
  }
 },
 "nbformat": 4,
 "nbformat_minor": 2
}
